{
 "cells": [
  {
   "cell_type": "markdown",
   "metadata": {},
   "source": [
    "This notebook is for fitting some models for the coronavirus dataset"
   ]
  },
  {
   "cell_type": "code",
   "execution_count": 1,
   "metadata": {},
   "outputs": [],
   "source": [
    "import numpy as np \n",
    "import pandas as pd\n",
    "import data_module_covid as dmc \n",
    "\n"
   ]
  },
  {
   "cell_type": "markdown",
   "metadata": {},
   "source": [
    "Read the data:"
   ]
  },
  {
   "cell_type": "code",
   "execution_count": 2,
   "metadata": {},
   "outputs": [
    {
     "name": "stdout",
     "output_type": "stream",
     "text": [
      "            count\n",
      "date             \n",
      "2020-01-29      1\n",
      "2020-02-26      1\n",
      "2020-02-28      1\n",
      "2020-03-01      3\n",
      "2020-03-02      1\n",
      "2020-03-05      5\n",
      "2020-03-06      3\n",
      "2020-03-07      4\n",
      "2020-03-08      5\n",
      "2020-03-09      9\n",
      "2020-03-10      7\n",
      "2020-03-11     25\n",
      "2020-03-12     46\n",
      "2020-03-13     44\n",
      "2020-03-14     70\n"
     ]
    }
   ],
   "source": [
    "\n",
    "data_ = dmc.get_data_from_HS()\n",
    "df = pd.DataFrame.from_dict(data_[\"confirmed\"])\n",
    "covid = dmc.extract_counts(df)\n",
    "print(covid)"
   ]
  }
 ],
 "metadata": {
  "file_extension": ".py",
  "kernelspec": {
   "display_name": "Python 3",
   "language": "python",
   "name": "python3"
  },
  "language_info": {
   "codemirror_mode": {
    "name": "ipython",
    "version": 3
   },
   "file_extension": ".py",
   "mimetype": "text/x-python",
   "name": "python",
   "nbconvert_exporter": "python",
   "pygments_lexer": "ipython3",
   "version": "3.7.6"
  },
  "mimetype": "text/x-python",
  "name": "python",
  "npconvert_exporter": "python",
  "pygments_lexer": "ipython3",
  "version": 3
 },
 "nbformat": 4,
 "nbformat_minor": 2
}
