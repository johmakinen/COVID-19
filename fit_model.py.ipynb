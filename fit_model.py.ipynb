{
 "nbformat": 4,
 "nbformat_minor": 2,
 "metadata": {
  "language_info": {
   "name": "python",
   "codemirror_mode": {
    "name": "ipython",
    "version": 3
   },
   "version": "3.7.2-final"
  },
  "orig_nbformat": 2,
  "file_extension": ".py",
  "mimetype": "text/x-python",
  "name": "python",
  "npconvert_exporter": "python",
  "pygments_lexer": "ipython3",
  "version": 3,
  "kernelspec": {
   "name": "python37264bit4bd4b4373e3447d29c70a8288d11a794",
   "display_name": "Python 3.7.2 64-bit"
  }
 },
 "cells": [
  {
   "cell_type": "markdown",
   "metadata": {},
   "source": [
    "This notebook is for fitting some models for the coronavirus dataset"
   ]
  },
  {
   "cell_type": "code",
   "execution_count": 5,
   "metadata": {},
   "outputs": [],
   "source": [
    "import numpy as np \n",
    "import pandas as pd\n",
    "import data_module_covid as dmc \n",
    "\n"
   ]
  },
  {
   "cell_type": "markdown",
   "metadata": {},
   "source": [
    "Read the data:"
   ]
  },
  {
   "cell_type": "code",
   "execution_count": 6,
   "metadata": {},
   "outputs": [
    {
     "name": "stdout",
     "output_type": "stream",
     "text": "count\ndate             \n2020-01-29      1\n2020-02-26      1\n2020-02-28      1\n2020-03-01      3\n2020-03-02      1\n2020-03-05      5\n2020-03-06      3\n2020-03-07      4\n2020-03-08      5\n2020-03-09      9\n2020-03-10      7\n2020-03-11     25\n2020-03-12     46\n2020-03-13     44\n2020-03-14     70\n"
    }
   ],
   "source": [
    "\n",
    "data_ = dmc.get_data_from_HS()\n",
    "df = pd.DataFrame.from_dict(data_[\"confirmed\"])\n",
    "covid = dmc.extract_counts(df)\n",
    "print(covid)"
   ]
  }
 ]
}