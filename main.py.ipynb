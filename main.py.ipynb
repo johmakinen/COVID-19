{
 "cells": [
  {
   "cell_type": "code",
   "execution_count": 86,
   "metadata": {},
   "outputs": [],
   "source": [
    "# Import libraries:\n",
    "import numpy as np\n",
    "import pandas as pd\n",
    "import requests"
   ]
  },
  {
   "cell_type": "markdown",
   "metadata": {},
   "source": [
    "Read the data from  Helsingin Sanomat (https://github.com/HS-Datadesk/koronavirus-avoindata)"
   ]
  },
  {
   "cell_type": "code",
   "execution_count": 87,
   "metadata": {},
   "outputs": [
    {
     "name": "stdout",
     "output_type": "stream",
     "text": [
      "                       date healthCareDistrict id infectionSource  \\\n",
      "0  2020-01-29T11:00:00.000Z              Lappi  1         unknown   \n",
      "1  2020-02-26T11:00:00.000Z                HUS  2         unknown   \n",
      "2  2020-03-01T11:00:00.000Z                HUS  3               2   \n",
      "3  2020-02-28T11:00:00.000Z                HUS  4         unknown   \n",
      "4  2020-03-01T11:00:00.000Z                HUS  5               4   \n",
      "\n",
      "  infectionSourceCountry  \n",
      "0                    CHN  \n",
      "1                    ITA  \n",
      "2                    FIN  \n",
      "3                    ITA  \n",
      "4                    FIN  \n",
      "                            date healthCareDistrict   id infectionSource  \\\n",
      "count                        223                223  223             223   \n",
      "unique                        39                 16  223              11   \n",
      "top     2020-03-14T09:20:00.000Z                HUS   95         unknown   \n",
      "freq                          47                117    1             207   \n",
      "\n",
      "       infectionSourceCountry  \n",
      "count                     105  \n",
      "unique                      9  \n",
      "top                       ITA  \n",
      "freq                       39  \n"
     ]
    }
   ],
   "source": [
    "data = requests.get(\"https://w3qa5ydb4l.execute-api.eu-west-1.amazonaws.com/prod/finnishCoronaData\")\n",
    "data_json = data.json()\n",
    "#Take only the data for confirmed cases:\n",
    "df = pd.DataFrame.from_dict(data_json[\"confirmed\"])\n",
    "print(df.head())\n",
    "print(df.describe())"
   ]
  },
  {
   "cell_type": "markdown",
   "metadata": {},
   "source": [
    "Now, we'll take only the dates and id's of the confirmed cases of COVID-19.\n",
    "There are 223 confirmed cases with all having their own timestamps."
   ]
  },
  {
   "cell_type": "code",
   "execution_count": 90,
   "metadata": {},
   "outputs": [
    {
     "name": "stdout",
     "output_type": "stream",
     "text": [
      "                       date id\n",
      "0  2020-01-29T11:00:00.000Z  1\n",
      "1  2020-02-26T11:00:00.000Z  2\n",
      "2  2020-03-01T11:00:00.000Z  3\n",
      "3  2020-02-28T11:00:00.000Z  4\n",
      "4  2020-03-01T11:00:00.000Z  5\n",
      "date    object\n",
      "id      object\n",
      "dtype: object\n"
     ]
    }
   ],
   "source": [
    "df_ts = df[['date','id']]\n",
    "print(df_ts.head())\n",
    "print(df_ts.dtypes)"
   ]
  },
  {
   "cell_type": "markdown",
   "metadata": {},
   "source": [
    "Set the dataframe index to date.\n",
    "Group the data by day to get a nice timeseries of the development of the virus in Finland."
   ]
  },
  {
   "cell_type": "code",
   "execution_count": 91,
   "metadata": {},
   "outputs": [
    {
     "name": "stdout",
     "output_type": "stream",
     "text": [
      "date\n",
      "2020-01-29    1\n",
      "2020-02-26    2\n",
      "2020-03-01    3\n",
      "2020-02-28    4\n",
      "2020-03-01    5\n",
      "Name: id, dtype: object\n"
     ]
    }
   ],
   "source": [
    "new_dates = pd.Series([x[:10] for x in df_ts['date'].values],name='new_dates')\n",
    "new_dates = new_dates.str.split('-',expand=True)\n",
    "new_dates = new_dates.rename(columns = {0:'year',1:'month',2:'day'})\n",
    "# print(new_dates)\n",
    "df_ts = pd.concat([df_ts,new_dates],axis=1)\n",
    "df_ts = df_ts.drop(columns = 'date')\n",
    "df_ts[\"date\"] = pd.to_datetime(df_ts[['year','month','day']])\n",
    "covid_ts = df_ts.set_index('date')['id']\n",
    "print(covid_ts.head())"
   ]
  },
  {
   "cell_type": "code",
   "execution_count": null,
   "metadata": {},
   "outputs": [],
   "source": []
  },
  {
   "cell_type": "code",
   "execution_count": null,
   "metadata": {},
   "outputs": [],
   "source": []
  }
 ],
 "metadata": {
  "kernelspec": {
   "display_name": "Python 3.7.2 64-bit",
   "language": "python",
   "name": "python37264bit4bd4b4373e3447d29c70a8288d11a794"
  },
  "language_info": {
   "codemirror_mode": {
    "name": "ipython",
    "version": 3
   },
   "file_extension": ".py",
   "mimetype": "text/x-python",
   "name": "python",
   "nbconvert_exporter": "python",
   "pygments_lexer": "ipython3",
   "version": "3.7.2"
  }
 },
 "nbformat": 4,
 "nbformat_minor": 2
}
