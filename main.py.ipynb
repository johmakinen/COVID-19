{
 "cells": [
  {
   "cell_type": "code",
   "execution_count": 1,
   "metadata": {},
   "outputs": [],
   "source": [
    "# Import libraries:\n",
    "import numpy as np\n",
    "import pandas as pd\n",
    "import matplotlib.pyplot as plt\n",
    "import requests"
   ]
  },
  {
   "cell_type": "markdown",
   "metadata": {},
   "source": [
    "Read the data from  Helsingin Sanomat (https://github.com/HS-Datadesk/koronavirus-avoindata)"
   ]
  },
  {
   "cell_type": "code",
   "execution_count": 2,
   "metadata": {},
   "outputs": [
    {
     "name": "stdout",
     "output_type": "stream",
     "text": [
      "                       date healthCareDistrict id infectionSource  \\\n",
      "0  2020-01-29T11:00:00.000Z              Lappi  1         unknown   \n",
      "1  2020-02-26T11:00:00.000Z                HUS  2         unknown   \n",
      "2  2020-03-01T11:00:00.000Z                HUS  3               2   \n",
      "3  2020-02-28T11:00:00.000Z                HUS  4         unknown   \n",
      "4  2020-03-01T11:00:00.000Z                HUS  5               4   \n",
      "\n",
      "  infectionSourceCountry  \n",
      "0                    CHN  \n",
      "1                    ITA  \n",
      "2                    FIN  \n",
      "3                    ITA  \n",
      "4                    FIN  \n",
      "                            date healthCareDistrict   id infectionSource  \\\n",
      "count                        224                224  224             224   \n",
      "unique                        40                 17  224              11   \n",
      "top     2020-03-14T09:20:00.000Z                HUS   39         unknown   \n",
      "freq                          47                117    1             208   \n",
      "\n",
      "       infectionSourceCountry  \n",
      "count                     105  \n",
      "unique                      9  \n",
      "top                       ITA  \n",
      "freq                       39  \n"
     ]
    }
   ],
   "source": [
    "data = requests.get(\"https://w3qa5ydb4l.execute-api.eu-west-1.amazonaws.com/prod/finnishCoronaData\")\n",
    "data_json = data.json()\n",
    "#Take only the data for confirmed cases:\n",
    "df = pd.DataFrame.from_dict(data_json[\"confirmed\"])\n",
    "print(df.head())\n",
    "print(df.describe())"
   ]
  },
  {
   "cell_type": "markdown",
   "metadata": {},
   "source": [
    "Now, we'll take only the dates and id's of the confirmed cases of COVID-19.\n",
    "There are 223 (at the time) confirmed cases with all having their own timestamps.\n",
    "Then we group them to get the daily confirmed cases."
   ]
  },
  {
   "cell_type": "code",
   "execution_count": 3,
   "metadata": {},
   "outputs": [
    {
     "name": "stdout",
     "output_type": "stream",
     "text": [
      "            count\n",
      "date             \n",
      "2020-01-29      1\n",
      "2020-02-26      1\n",
      "2020-02-28      1\n",
      "2020-03-01      3\n",
      "2020-03-02      1\n",
      "2020-03-05      5\n",
      "2020-03-06      3\n",
      "2020-03-07      4\n",
      "2020-03-08      5\n",
      "2020-03-09      9\n",
      "2020-03-10      7\n",
      "2020-03-11     25\n",
      "2020-03-12     46\n",
      "2020-03-13     44\n",
      "2020-03-14     69\n"
     ]
    }
   ],
   "source": [
    "df_ts = df[['date','id']]\n",
    "new_dates = pd.Series([x[:10] for x in df['date'].values],name='new_dates')\n",
    "new_dates_s = new_dates.str.split('-',expand=True)\n",
    "new_dates_s = new_dates_s.rename(columns = {0:'year',1:'month',2:'day'})\n",
    "\n",
    "df_ts = pd.concat([df_ts,new_dates_s],axis=1)\n",
    "df_ts = df_ts.loc[:,\"id\":\"day\"].rename(columns={'id':'count'})\n",
    "df_ts = df_ts.groupby(['year','month','day']).count()\n",
    "\n",
    "\n",
    "covid1 = pd.Series(df_ts['count'].values,name = 'count')\n",
    "covid2 = pd.Series(new_dates.unique(),name=\"date\").sort_values()\n",
    "covid = pd.concat([pd.to_datetime(covid2).reset_index(),covid1],axis=1)\n",
    "covid[\"date\"] = pd.to_datetime(covid['date'])\n",
    "covid = covid.set_index('date').drop('index',axis=1)\n",
    "print(covid)\n"
   ]
  },
  {
   "cell_type": "markdown",
   "metadata": {},
   "source": [
    "Get the cumulative sum of the confirmed cases and visualise the daily counts and cumulative sum."
   ]
  },
  {
   "cell_type": "code",
   "execution_count": 4,
   "metadata": {},
   "outputs": [
    {
     "data": {
      "text/plain": [
       "<matplotlib.axes._subplots.AxesSubplot at 0x24cc94a7710>"
      ]
     },
     "execution_count": 4,
     "metadata": {},
     "output_type": "execute_result"
    },
    {
     "data": {
      "image/png": "[encoded data removed]",
      "text/plain": [
       "<Figure size 1080x360 with 2 Axes>"
      ]
     },
     "metadata": {
      "needs_background": "light"
     },
     "output_type": "display_data"
    }
   ],
   "source": [
    "covid['cum_sum'] = covid['count'].cumsum()\n",
    "\n",
    "fig,axes = plt.subplots(1,2,figsize=(15,5))\n",
    "\n",
    "covid.plot.bar(y='count',ax=axes[0],label=\"Counts of confirmed cases\")\n",
    "\n",
    "covid.plot.bar(y = 'cum_sum',ax=axes[1],color = 'red',label=\"Cumulative sum of confirmed cases\")"
   ]
  },
  {
   "cell_type": "code",
   "execution_count": null,
   "metadata": {},
   "outputs": [],
   "source": []
  },
  {
   "cell_type": "code",
   "execution_count": null,
   "metadata": {},
   "outputs": [],
   "source": []
  },
  {
   "cell_type": "code",
   "execution_count": null,
   "metadata": {},
   "outputs": [],
   "source": []
  },
  {
   "cell_type": "code",
   "execution_count": null,
   "metadata": {},
   "outputs": [],
   "source": []
  }
 ],
 "metadata": {
  "kernelspec": {
   "display_name": "Python 3.7.2 64-bit",
   "language": "python",
   "name": "python37264bit4bd4b4373e3447d29c70a8288d11a794"
  },
  "language_info": {
   "codemirror_mode": {
    "name": "ipython",
    "version": 3
   },
   "file_extension": ".py",
   "mimetype": "text/x-python",
   "name": "python",
   "nbconvert_exporter": "python",
   "pygments_lexer": "ipython3",
   "version": "3.7.2"
  }
 },
 "nbformat": 4,
 "nbformat_minor": 2
}
